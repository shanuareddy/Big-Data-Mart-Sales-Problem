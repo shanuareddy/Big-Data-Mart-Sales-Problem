{
 "cells": [
  {
   "cell_type": "code",
   "execution_count": 1,
   "id": "28ac285e",
   "metadata": {},
   "outputs": [],
   "source": [
    "import pandas as pd\n",
    "import numpy as np\n",
    "import seaborn as sns\n",
    "import matplotlib.pyplot as plt\n",
    "import warnings\n",
    "%matplotlib inline\n",
    "warnings.filterwarnings('ignore')"
   ]
  },
  {
   "cell_type": "code",
   "execution_count": 2,
   "id": "6b9aaa58",
   "metadata": {},
   "outputs": [
    {
     "data": {
      "text/html": [
       "<div>\n",
       "<style scoped>\n",
       "    .dataframe tbody tr th:only-of-type {\n",
       "        vertical-align: middle;\n",
       "    }\n",
       "\n",
       "    .dataframe tbody tr th {\n",
       "        vertical-align: top;\n",
       "    }\n",
       "\n",
       "    .dataframe thead th {\n",
       "        text-align: right;\n",
       "    }\n",
       "</style>\n",
       "<table border=\"1\" class=\"dataframe\">\n",
       "  <thead>\n",
       "    <tr style=\"text-align: right;\">\n",
       "      <th></th>\n",
       "      <th>Item_Identifier</th>\n",
       "      <th>Item_Weight</th>\n",
       "      <th>Item_Fat_Content</th>\n",
       "      <th>Item_Visibility</th>\n",
       "      <th>Item_Type</th>\n",
       "      <th>Item_MRP</th>\n",
       "      <th>Outlet_Identifier</th>\n",
       "      <th>Outlet_Establishment_Year</th>\n",
       "      <th>Outlet_Size</th>\n",
       "      <th>Outlet_Location_Type</th>\n",
       "      <th>Outlet_Type</th>\n",
       "      <th>Item_Outlet_Sales</th>\n",
       "    </tr>\n",
       "  </thead>\n",
       "  <tbody>\n",
       "    <tr>\n",
       "      <th>0</th>\n",
       "      <td>FDA15</td>\n",
       "      <td>9.30</td>\n",
       "      <td>Low Fat</td>\n",
       "      <td>0.016047</td>\n",
       "      <td>Dairy</td>\n",
       "      <td>249.8092</td>\n",
       "      <td>OUT049</td>\n",
       "      <td>1999</td>\n",
       "      <td>Medium</td>\n",
       "      <td>Tier 1</td>\n",
       "      <td>Supermarket Type1</td>\n",
       "      <td>3735.1380</td>\n",
       "    </tr>\n",
       "    <tr>\n",
       "      <th>1</th>\n",
       "      <td>DRC01</td>\n",
       "      <td>5.92</td>\n",
       "      <td>Regular</td>\n",
       "      <td>0.019278</td>\n",
       "      <td>Soft Drinks</td>\n",
       "      <td>48.2692</td>\n",
       "      <td>OUT018</td>\n",
       "      <td>2009</td>\n",
       "      <td>Medium</td>\n",
       "      <td>Tier 3</td>\n",
       "      <td>Supermarket Type2</td>\n",
       "      <td>443.4228</td>\n",
       "    </tr>\n",
       "    <tr>\n",
       "      <th>2</th>\n",
       "      <td>FDN15</td>\n",
       "      <td>17.50</td>\n",
       "      <td>Low Fat</td>\n",
       "      <td>0.016760</td>\n",
       "      <td>Meat</td>\n",
       "      <td>141.6180</td>\n",
       "      <td>OUT049</td>\n",
       "      <td>1999</td>\n",
       "      <td>Medium</td>\n",
       "      <td>Tier 1</td>\n",
       "      <td>Supermarket Type1</td>\n",
       "      <td>2097.2700</td>\n",
       "    </tr>\n",
       "    <tr>\n",
       "      <th>3</th>\n",
       "      <td>FDX07</td>\n",
       "      <td>19.20</td>\n",
       "      <td>Regular</td>\n",
       "      <td>0.000000</td>\n",
       "      <td>Fruits and Vegetables</td>\n",
       "      <td>182.0950</td>\n",
       "      <td>OUT010</td>\n",
       "      <td>1998</td>\n",
       "      <td>NaN</td>\n",
       "      <td>Tier 3</td>\n",
       "      <td>Grocery Store</td>\n",
       "      <td>732.3800</td>\n",
       "    </tr>\n",
       "    <tr>\n",
       "      <th>4</th>\n",
       "      <td>NCD19</td>\n",
       "      <td>8.93</td>\n",
       "      <td>Low Fat</td>\n",
       "      <td>0.000000</td>\n",
       "      <td>Household</td>\n",
       "      <td>53.8614</td>\n",
       "      <td>OUT013</td>\n",
       "      <td>1987</td>\n",
       "      <td>High</td>\n",
       "      <td>Tier 3</td>\n",
       "      <td>Supermarket Type1</td>\n",
       "      <td>994.7052</td>\n",
       "    </tr>\n",
       "  </tbody>\n",
       "</table>\n",
       "</div>"
      ],
      "text/plain": [
       "  Item_Identifier  Item_Weight Item_Fat_Content  Item_Visibility  \\\n",
       "0           FDA15         9.30          Low Fat         0.016047   \n",
       "1           DRC01         5.92          Regular         0.019278   \n",
       "2           FDN15        17.50          Low Fat         0.016760   \n",
       "3           FDX07        19.20          Regular         0.000000   \n",
       "4           NCD19         8.93          Low Fat         0.000000   \n",
       "\n",
       "               Item_Type  Item_MRP Outlet_Identifier  \\\n",
       "0                  Dairy  249.8092            OUT049   \n",
       "1            Soft Drinks   48.2692            OUT018   \n",
       "2                   Meat  141.6180            OUT049   \n",
       "3  Fruits and Vegetables  182.0950            OUT010   \n",
       "4              Household   53.8614            OUT013   \n",
       "\n",
       "   Outlet_Establishment_Year Outlet_Size Outlet_Location_Type  \\\n",
       "0                       1999      Medium               Tier 1   \n",
       "1                       2009      Medium               Tier 3   \n",
       "2                       1999      Medium               Tier 1   \n",
       "3                       1998         NaN               Tier 3   \n",
       "4                       1987        High               Tier 3   \n",
       "\n",
       "         Outlet_Type  Item_Outlet_Sales  \n",
       "0  Supermarket Type1          3735.1380  \n",
       "1  Supermarket Type2           443.4228  \n",
       "2  Supermarket Type1          2097.2700  \n",
       "3      Grocery Store           732.3800  \n",
       "4  Supermarket Type1           994.7052  "
      ]
     },
     "execution_count": 2,
     "metadata": {},
     "output_type": "execute_result"
    }
   ],
   "source": [
    "df_train = pd.read_csv('https://raw.githubusercontent.com/dsrscientist/bigdatamart_rep/master/bigdatamart_Train.csv')\n",
    "df_train.head()"
   ]
  },
  {
   "cell_type": "code",
   "execution_count": 3,
   "id": "bc6e9e3d",
   "metadata": {},
   "outputs": [
    {
     "data": {
      "text/plain": [
       "(8523, 12)"
      ]
     },
     "execution_count": 3,
     "metadata": {},
     "output_type": "execute_result"
    }
   ],
   "source": [
    "#Checking the dimensions\n",
    "df_train.shape"
   ]
  },
  {
   "cell_type": "code",
   "execution_count": 4,
   "id": "3cffb10b",
   "metadata": {},
   "outputs": [
    {
     "data": {
      "text/plain": [
       "Item_Identifier                 0\n",
       "Item_Weight                  1463\n",
       "Item_Fat_Content                0\n",
       "Item_Visibility                 0\n",
       "Item_Type                       0\n",
       "Item_MRP                        0\n",
       "Outlet_Identifier               0\n",
       "Outlet_Establishment_Year       0\n",
       "Outlet_Size                  2410\n",
       "Outlet_Location_Type            0\n",
       "Outlet_Type                     0\n",
       "Item_Outlet_Sales               0\n",
       "dtype: int64"
      ]
     },
     "execution_count": 4,
     "metadata": {},
     "output_type": "execute_result"
    }
   ],
   "source": [
    "#Checking missing values\n",
    "df_train.isnull().sum()"
   ]
  },
  {
   "cell_type": "markdown",
   "id": "6735c6b4",
   "metadata": {},
   "source": [
    "missing values are in Item_Weight(17.2%) and Outlet_Size(28.3%)."
   ]
  },
  {
   "cell_type": "code",
   "execution_count": 5,
   "id": "c0218591",
   "metadata": {},
   "outputs": [],
   "source": [
    "df_train['Item_Weight']=df_train['Item_Weight'].fillna(df_train['Item_Weight'].mean())\n"
   ]
  },
  {
   "cell_type": "code",
   "execution_count": 6,
   "id": "e381d43a",
   "metadata": {},
   "outputs": [],
   "source": [
    "df_train['Outlet_Size']=df_train['Outlet_Size'].fillna(df_train['Outlet_Size'].mode()[0])\n"
   ]
  },
  {
   "cell_type": "markdown",
   "id": "245fdbb9",
   "metadata": {},
   "source": [
    "We have filled the null values for Item_Weight by mean and for Outlet_Size by mode.Let's check if we still have null values in the dataset."
   ]
  },
  {
   "cell_type": "code",
   "execution_count": 8,
   "id": "a2fc47e5",
   "metadata": {},
   "outputs": [
    {
     "data": {
      "text/plain": [
       "Item_Identifier              0\n",
       "Item_Weight                  0\n",
       "Item_Fat_Content             0\n",
       "Item_Visibility              0\n",
       "Item_Type                    0\n",
       "Item_MRP                     0\n",
       "Outlet_Identifier            0\n",
       "Outlet_Establishment_Year    0\n",
       "Outlet_Size                  0\n",
       "Outlet_Location_Type         0\n",
       "Outlet_Type                  0\n",
       "Item_Outlet_Sales            0\n",
       "dtype: int64"
      ]
     },
     "execution_count": 8,
     "metadata": {},
     "output_type": "execute_result"
    }
   ],
   "source": [
    "#Checking missing values\n",
    "df_train.isnull().sum()"
   ]
  },
  {
   "cell_type": "code",
   "execution_count": 9,
   "id": "f902a2ce",
   "metadata": {},
   "outputs": [
    {
     "data": {
      "text/plain": [
       "<AxesSubplot:>"
      ]
     },
     "execution_count": 9,
     "metadata": {},
     "output_type": "execute_result"
    },
    {
     "data": {
      "image/png": "[encoded data removed]",
      "text/plain": [
       "<Figure size 432x288 with 1 Axes>"
      ]
     },
     "metadata": {
      "needs_background": "light"
     },
     "output_type": "display_data"
    }
   ],
   "source": [
    "import seaborn as sns\n",
    "sns.heatmap(df_train.isnull(),yticklabels=False,cbar=False,cmap='coolwarm')"
   ]
  },
  {
   "cell_type": "code",
   "execution_count": 10,
   "id": "0068fe11",
   "metadata": {},
   "outputs": [
    {
     "data": {
      "text/html": [
       "<div>\n",
       "<style scoped>\n",
       "    .dataframe tbody tr th:only-of-type {\n",
       "        vertical-align: middle;\n",
       "    }\n",
       "\n",
       "    .dataframe tbody tr th {\n",
       "        vertical-align: top;\n",
       "    }\n",
       "\n",
       "    .dataframe thead th {\n",
       "        text-align: right;\n",
       "    }\n",
       "</style>\n",
       "<table border=\"1\" class=\"dataframe\">\n",
       "  <thead>\n",
       "    <tr style=\"text-align: right;\">\n",
       "      <th></th>\n",
       "      <th>Item_Identifier</th>\n",
       "      <th>Item_Weight</th>\n",
       "      <th>Item_Fat_Content</th>\n",
       "      <th>Item_Visibility</th>\n",
       "      <th>Item_Type</th>\n",
       "      <th>Item_MRP</th>\n",
       "      <th>Outlet_Identifier</th>\n",
       "      <th>Outlet_Establishment_Year</th>\n",
       "      <th>Outlet_Size</th>\n",
       "      <th>Outlet_Location_Type</th>\n",
       "      <th>Outlet_Type</th>\n",
       "      <th>Item_Outlet_Sales</th>\n",
       "    </tr>\n",
       "  </thead>\n",
       "  <tbody>\n",
       "    <tr>\n",
       "      <th>count</th>\n",
       "      <td>8523</td>\n",
       "      <td>8523.000000</td>\n",
       "      <td>8523</td>\n",
       "      <td>8523.000000</td>\n",
       "      <td>8523</td>\n",
       "      <td>8523.000000</td>\n",
       "      <td>8523</td>\n",
       "      <td>8523.000000</td>\n",
       "      <td>8523</td>\n",
       "      <td>8523</td>\n",
       "      <td>8523</td>\n",
       "      <td>8523.000000</td>\n",
       "    </tr>\n",
       "    <tr>\n",
       "      <th>unique</th>\n",
       "      <td>1559</td>\n",
       "      <td>NaN</td>\n",
       "      <td>5</td>\n",
       "      <td>NaN</td>\n",
       "      <td>16</td>\n",
       "      <td>NaN</td>\n",
       "      <td>10</td>\n",
       "      <td>NaN</td>\n",
       "      <td>3</td>\n",
       "      <td>3</td>\n",
       "      <td>4</td>\n",
       "      <td>NaN</td>\n",
       "    </tr>\n",
       "    <tr>\n",
       "      <th>top</th>\n",
       "      <td>FDW13</td>\n",
       "      <td>NaN</td>\n",
       "      <td>Low Fat</td>\n",
       "      <td>NaN</td>\n",
       "      <td>Fruits and Vegetables</td>\n",
       "      <td>NaN</td>\n",
       "      <td>OUT027</td>\n",
       "      <td>NaN</td>\n",
       "      <td>Medium</td>\n",
       "      <td>Tier 3</td>\n",
       "      <td>Supermarket Type1</td>\n",
       "      <td>NaN</td>\n",
       "    </tr>\n",
       "    <tr>\n",
       "      <th>freq</th>\n",
       "      <td>10</td>\n",
       "      <td>NaN</td>\n",
       "      <td>5089</td>\n",
       "      <td>NaN</td>\n",
       "      <td>1232</td>\n",
       "      <td>NaN</td>\n",
       "      <td>935</td>\n",
       "      <td>NaN</td>\n",
       "      <td>5203</td>\n",
       "      <td>3350</td>\n",
       "      <td>5577</td>\n",
       "      <td>NaN</td>\n",
       "    </tr>\n",
       "    <tr>\n",
       "      <th>mean</th>\n",
       "      <td>NaN</td>\n",
       "      <td>12.857645</td>\n",
       "      <td>NaN</td>\n",
       "      <td>0.066132</td>\n",
       "      <td>NaN</td>\n",
       "      <td>140.992782</td>\n",
       "      <td>NaN</td>\n",
       "      <td>1997.831867</td>\n",
       "      <td>NaN</td>\n",
       "      <td>NaN</td>\n",
       "      <td>NaN</td>\n",
       "      <td>2181.288914</td>\n",
       "    </tr>\n",
       "    <tr>\n",
       "      <th>std</th>\n",
       "      <td>NaN</td>\n",
       "      <td>4.226124</td>\n",
       "      <td>NaN</td>\n",
       "      <td>0.051598</td>\n",
       "      <td>NaN</td>\n",
       "      <td>62.275067</td>\n",
       "      <td>NaN</td>\n",
       "      <td>8.371760</td>\n",
       "      <td>NaN</td>\n",
       "      <td>NaN</td>\n",
       "      <td>NaN</td>\n",
       "      <td>1706.499616</td>\n",
       "    </tr>\n",
       "    <tr>\n",
       "      <th>min</th>\n",
       "      <td>NaN</td>\n",
       "      <td>4.555000</td>\n",
       "      <td>NaN</td>\n",
       "      <td>0.000000</td>\n",
       "      <td>NaN</td>\n",
       "      <td>31.290000</td>\n",
       "      <td>NaN</td>\n",
       "      <td>1985.000000</td>\n",
       "      <td>NaN</td>\n",
       "      <td>NaN</td>\n",
       "      <td>NaN</td>\n",
       "      <td>33.290000</td>\n",
       "    </tr>\n",
       "    <tr>\n",
       "      <th>25%</th>\n",
       "      <td>NaN</td>\n",
       "      <td>9.310000</td>\n",
       "      <td>NaN</td>\n",
       "      <td>0.026989</td>\n",
       "      <td>NaN</td>\n",
       "      <td>93.826500</td>\n",
       "      <td>NaN</td>\n",
       "      <td>1987.000000</td>\n",
       "      <td>NaN</td>\n",
       "      <td>NaN</td>\n",
       "      <td>NaN</td>\n",
       "      <td>834.247400</td>\n",
       "    </tr>\n",
       "    <tr>\n",
       "      <th>50%</th>\n",
       "      <td>NaN</td>\n",
       "      <td>12.857645</td>\n",
       "      <td>NaN</td>\n",
       "      <td>0.053931</td>\n",
       "      <td>NaN</td>\n",
       "      <td>143.012800</td>\n",
       "      <td>NaN</td>\n",
       "      <td>1999.000000</td>\n",
       "      <td>NaN</td>\n",
       "      <td>NaN</td>\n",
       "      <td>NaN</td>\n",
       "      <td>1794.331000</td>\n",
       "    </tr>\n",
       "    <tr>\n",
       "      <th>75%</th>\n",
       "      <td>NaN</td>\n",
       "      <td>16.000000</td>\n",
       "      <td>NaN</td>\n",
       "      <td>0.094585</td>\n",
       "      <td>NaN</td>\n",
       "      <td>185.643700</td>\n",
       "      <td>NaN</td>\n",
       "      <td>2004.000000</td>\n",
       "      <td>NaN</td>\n",
       "      <td>NaN</td>\n",
       "      <td>NaN</td>\n",
       "      <td>3101.296400</td>\n",
       "    </tr>\n",
       "    <tr>\n",
       "      <th>max</th>\n",
       "      <td>NaN</td>\n",
       "      <td>21.350000</td>\n",
       "      <td>NaN</td>\n",
       "      <td>0.328391</td>\n",
       "      <td>NaN</td>\n",
       "      <td>266.888400</td>\n",
       "      <td>NaN</td>\n",
       "      <td>2009.000000</td>\n",
       "      <td>NaN</td>\n",
       "      <td>NaN</td>\n",
       "      <td>NaN</td>\n",
       "      <td>13086.964800</td>\n",
       "    </tr>\n",
       "  </tbody>\n",
       "</table>\n",
       "</div>"
      ],
      "text/plain": [
       "       Item_Identifier  Item_Weight Item_Fat_Content  Item_Visibility  \\\n",
       "count             8523  8523.000000             8523      8523.000000   \n",
       "unique            1559          NaN                5              NaN   \n",
       "top              FDW13          NaN          Low Fat              NaN   \n",
       "freq                10          NaN             5089              NaN   \n",
       "mean               NaN    12.857645              NaN         0.066132   \n",
       "std                NaN     4.226124              NaN         0.051598   \n",
       "min                NaN     4.555000              NaN         0.000000   \n",
       "25%                NaN     9.310000              NaN         0.026989   \n",
       "50%                NaN    12.857645              NaN         0.053931   \n",
       "75%                NaN    16.000000              NaN         0.094585   \n",
       "max                NaN    21.350000              NaN         0.328391   \n",
       "\n",
       "                    Item_Type     Item_MRP Outlet_Identifier  \\\n",
       "count                    8523  8523.000000              8523   \n",
       "unique                     16          NaN                10   \n",
       "top     Fruits and Vegetables          NaN            OUT027   \n",
       "freq                     1232          NaN               935   \n",
       "mean                      NaN   140.992782               NaN   \n",
       "std                       NaN    62.275067               NaN   \n",
       "min                       NaN    31.290000               NaN   \n",
       "25%                       NaN    93.826500               NaN   \n",
       "50%                       NaN   143.012800               NaN   \n",
       "75%                       NaN   185.643700               NaN   \n",
       "max                       NaN   266.888400               NaN   \n",
       "\n",
       "        Outlet_Establishment_Year Outlet_Size Outlet_Location_Type  \\\n",
       "count                 8523.000000        8523                 8523   \n",
       "unique                        NaN           3                    3   \n",
       "top                           NaN      Medium               Tier 3   \n",
       "freq                          NaN        5203                 3350   \n",
       "mean                  1997.831867         NaN                  NaN   \n",
       "std                      8.371760         NaN                  NaN   \n",
       "min                   1985.000000         NaN                  NaN   \n",
       "25%                   1987.000000         NaN                  NaN   \n",
       "50%                   1999.000000         NaN                  NaN   \n",
       "75%                   2004.000000         NaN                  NaN   \n",
       "max                   2009.000000         NaN                  NaN   \n",
       "\n",
       "              Outlet_Type  Item_Outlet_Sales  \n",
       "count                8523        8523.000000  \n",
       "unique                  4                NaN  \n",
       "top     Supermarket Type1                NaN  \n",
       "freq                 5577                NaN  \n",
       "mean                  NaN        2181.288914  \n",
       "std                   NaN        1706.499616  \n",
       "min                   NaN          33.290000  \n",
       "25%                   NaN         834.247400  \n",
       "50%                   NaN        1794.331000  \n",
       "75%                   NaN        3101.296400  \n",
       "max                   NaN       13086.964800  "
      ]
     },
     "execution_count": 10,
     "metadata": {},
     "output_type": "execute_result"
    }
   ],
   "source": [
    "df_train.describe(include = 'all')"
   ]
  },
  {
   "cell_type": "markdown",
   "id": "48456b32",
   "metadata": {},
   "source": [
    "#Visualizing the \"Outlet_Identifier\"\n",
    "df_train['Outlet_Identifier'].value_counts().plot(kind='bar',color = 'Black')"
   ]
  },
  {
   "cell_type": "markdown",
   "id": "897c3c2d",
   "metadata": {},
   "source": [
    "As Item Identifier and Outlet_Identifier doesn't have impact on sales, so we are dropping these columns."
   ]
  },
  {
   "cell_type": "code",
   "execution_count": 13,
   "id": "2ade13bc",
   "metadata": {},
   "outputs": [
    {
     "data": {
      "text/html": [
       "<div>\n",
       "<style scoped>\n",
       "    .dataframe tbody tr th:only-of-type {\n",
       "        vertical-align: middle;\n",
       "    }\n",
       "\n",
       "    .dataframe tbody tr th {\n",
       "        vertical-align: top;\n",
       "    }\n",
       "\n",
       "    .dataframe thead th {\n",
       "        text-align: right;\n",
       "    }\n",
       "</style>\n",
       "<table border=\"1\" class=\"dataframe\">\n",
       "  <thead>\n",
       "    <tr style=\"text-align: right;\">\n",
       "      <th></th>\n",
       "      <th>Item_Weight</th>\n",
       "      <th>Item_Fat_Content</th>\n",
       "      <th>Item_Visibility</th>\n",
       "      <th>Item_Type</th>\n",
       "      <th>Item_MRP</th>\n",
       "      <th>Outlet_Establishment_Year</th>\n",
       "      <th>Outlet_Size</th>\n",
       "      <th>Outlet_Location_Type</th>\n",
       "      <th>Outlet_Type</th>\n",
       "      <th>Item_Outlet_Sales</th>\n",
       "    </tr>\n",
       "  </thead>\n",
       "  <tbody>\n",
       "    <tr>\n",
       "      <th>0</th>\n",
       "      <td>9.30</td>\n",
       "      <td>Low Fat</td>\n",
       "      <td>0.016047</td>\n",
       "      <td>Dairy</td>\n",
       "      <td>249.8092</td>\n",
       "      <td>1999</td>\n",
       "      <td>Medium</td>\n",
       "      <td>Tier 1</td>\n",
       "      <td>Supermarket Type1</td>\n",
       "      <td>3735.1380</td>\n",
       "    </tr>\n",
       "    <tr>\n",
       "      <th>1</th>\n",
       "      <td>5.92</td>\n",
       "      <td>Regular</td>\n",
       "      <td>0.019278</td>\n",
       "      <td>Soft Drinks</td>\n",
       "      <td>48.2692</td>\n",
       "      <td>2009</td>\n",
       "      <td>Medium</td>\n",
       "      <td>Tier 3</td>\n",
       "      <td>Supermarket Type2</td>\n",
       "      <td>443.4228</td>\n",
       "    </tr>\n",
       "    <tr>\n",
       "      <th>2</th>\n",
       "      <td>17.50</td>\n",
       "      <td>Low Fat</td>\n",
       "      <td>0.016760</td>\n",
       "      <td>Meat</td>\n",
       "      <td>141.6180</td>\n",
       "      <td>1999</td>\n",
       "      <td>Medium</td>\n",
       "      <td>Tier 1</td>\n",
       "      <td>Supermarket Type1</td>\n",
       "      <td>2097.2700</td>\n",
       "    </tr>\n",
       "    <tr>\n",
       "      <th>3</th>\n",
       "      <td>19.20</td>\n",
       "      <td>Regular</td>\n",
       "      <td>0.000000</td>\n",
       "      <td>Fruits and Vegetables</td>\n",
       "      <td>182.0950</td>\n",
       "      <td>1998</td>\n",
       "      <td>Medium</td>\n",
       "      <td>Tier 3</td>\n",
       "      <td>Grocery Store</td>\n",
       "      <td>732.3800</td>\n",
       "    </tr>\n",
       "    <tr>\n",
       "      <th>4</th>\n",
       "      <td>8.93</td>\n",
       "      <td>Low Fat</td>\n",
       "      <td>0.000000</td>\n",
       "      <td>Household</td>\n",
       "      <td>53.8614</td>\n",
       "      <td>1987</td>\n",
       "      <td>High</td>\n",
       "      <td>Tier 3</td>\n",
       "      <td>Supermarket Type1</td>\n",
       "      <td>994.7052</td>\n",
       "    </tr>\n",
       "  </tbody>\n",
       "</table>\n",
       "</div>"
      ],
      "text/plain": [
       "   Item_Weight Item_Fat_Content  Item_Visibility              Item_Type  \\\n",
       "0         9.30          Low Fat         0.016047                  Dairy   \n",
       "1         5.92          Regular         0.019278            Soft Drinks   \n",
       "2        17.50          Low Fat         0.016760                   Meat   \n",
       "3        19.20          Regular         0.000000  Fruits and Vegetables   \n",
       "4         8.93          Low Fat         0.000000              Household   \n",
       "\n",
       "   Item_MRP  Outlet_Establishment_Year Outlet_Size Outlet_Location_Type  \\\n",
       "0  249.8092                       1999      Medium               Tier 1   \n",
       "1   48.2692                       2009      Medium               Tier 3   \n",
       "2  141.6180                       1999      Medium               Tier 1   \n",
       "3  182.0950                       1998      Medium               Tier 3   \n",
       "4   53.8614                       1987        High               Tier 3   \n",
       "\n",
       "         Outlet_Type  Item_Outlet_Sales  \n",
       "0  Supermarket Type1          3735.1380  \n",
       "1  Supermarket Type2           443.4228  \n",
       "2  Supermarket Type1          2097.2700  \n",
       "3      Grocery Store           732.3800  \n",
       "4  Supermarket Type1           994.7052  "
      ]
     },
     "execution_count": 13,
     "metadata": {},
     "output_type": "execute_result"
    }
   ],
   "source": [
    "df_train = df_train.drop(['Item_Identifier','Outlet_Identifier'],axis=1)\n",
    "df_train.head()"
   ]
  },
  {
   "cell_type": "markdown",
   "id": "0525ad65",
   "metadata": {},
   "source": [
    "EDA (Exploratory Data Analysis)"
   ]
  },
  {
   "cell_type": "code",
   "execution_count": 14,
   "id": "629760c3",
   "metadata": {},
   "outputs": [
    {
     "data": {
      "image/png": "[encoded data removed]",
      "text/plain": [
       "<Figure size 432x288 with 1 Axes>"
      ]
     },
     "metadata": {
      "needs_background": "light"
     },
     "output_type": "display_data"
    }
   ],
   "source": [
    "sns.distplot(df_train['Item_Weight'])\n",
    "plt.show()"
   ]
  },
  {
   "cell_type": "code",
   "execution_count": 15,
   "id": "52ad44a8",
   "metadata": {},
   "outputs": [
    {
     "data": {
      "image/png": "[encoded data removed]",
      "text/plain": [
       "<Figure size 432x288 with 1 Axes>"
      ]
     },
     "metadata": {
      "needs_background": "light"
     },
     "output_type": "display_data"
    }
   ],
   "source": [
    "sns.distplot(df_train['Item_Visibility'])\n",
    "plt.show()"
   ]
  },
  {
   "cell_type": "code",
   "execution_count": 16,
   "id": "1bb54ccf",
   "metadata": {},
   "outputs": [
    {
     "data": {
      "image/png": "[encoded data removed]",
      "text/plain": [
       "<Figure size 432x288 with 1 Axes>"
      ]
     },
     "metadata": {
      "needs_background": "light"
     },
     "output_type": "display_data"
    }
   ],
   "source": [
    "sns.distplot(df_train['Item_MRP'])\n",
    "plt.show()"
   ]
  },
  {
   "cell_type": "code",
   "execution_count": 17,
   "id": "1aad49f5",
   "metadata": {},
   "outputs": [
    {
     "data": {
      "image/png": "[encoded data removed]",
      "text/plain": [
       "<Figure size 432x288 with 1 Axes>"
      ]
     },
     "metadata": {
      "needs_background": "light"
     },
     "output_type": "display_data"
    }
   ],
   "source": [
    "sns.distplot(df_train['Item_Outlet_Sales'])\n",
    "plt.show()"
   ]
  },
  {
   "cell_type": "code",
   "execution_count": 18,
   "id": "cab28f9a",
   "metadata": {},
   "outputs": [
    {
     "data": {
      "image/png": "[encoded data removed]",
      "text/plain": [
       "<Figure size 432x288 with 1 Axes>"
      ]
     },
     "metadata": {
      "needs_background": "light"
     },
     "output_type": "display_data"
    }
   ],
   "source": [
    "sns.countplot(df_train['Item_Fat_Content'])\n",
    "plt.show()"
   ]
  },
  {
   "cell_type": "code",
   "execution_count": 19,
   "id": "eeea952e",
   "metadata": {},
   "outputs": [
    {
     "data": {
      "text/plain": [
       "<AxesSubplot:xlabel='Item_Type', ylabel='count'>"
      ]
     },
     "execution_count": 19,
     "metadata": {},
     "output_type": "execute_result"
    },
    {
     "data": {
      "image/png": "[encoded data removed]",
      "text/plain": [
       "<Figure size 1440x1440 with 1 Axes>"
      ]
     },
     "metadata": {
      "needs_background": "light"
     },
     "output_type": "display_data"
    }
   ],
   "source": [
    "igure=plt.figure(figsize=(20,20))\n",
    "sns.countplot(df_train['Item_Type'])"
   ]
  },
  {
   "cell_type": "code",
   "execution_count": 20,
   "id": "2fd8a00e",
   "metadata": {},
   "outputs": [
    {
     "data": {
      "image/png": "[encoded data removed]",
      "text/plain": [
       "<Figure size 432x288 with 1 Axes>"
      ]
     },
     "metadata": {
      "needs_background": "light"
     },
     "output_type": "display_data"
    }
   ],
   "source": [
    "sns.countplot(df_train['Outlet_Establishment_Year'])\n",
    "plt.show()"
   ]
  },
  {
   "cell_type": "code",
   "execution_count": 21,
   "id": "79211005",
   "metadata": {},
   "outputs": [
    {
     "data": {
      "image/png": "[encoded data removed]",
      "text/plain": [
       "<Figure size 432x288 with 1 Axes>"
      ]
     },
     "metadata": {
      "needs_background": "light"
     },
     "output_type": "display_data"
    }
   ],
   "source": [
    "sns.countplot(df_train['Outlet_Size'])\n",
    "plt.show()"
   ]
  },
  {
   "cell_type": "code",
   "execution_count": 22,
   "id": "34e41fe7",
   "metadata": {},
   "outputs": [
    {
     "data": {
      "image/png": "[encoded data removed]",
      "text/plain": [
       "<Figure size 432x288 with 1 Axes>"
      ]
     },
     "metadata": {
      "needs_background": "light"
     },
     "output_type": "display_data"
    }
   ],
   "source": [
    "sns.countplot(df_train['Outlet_Location_Type'])\n",
    "plt.show()"
   ]
  },
  {
   "cell_type": "code",
   "execution_count": 23,
   "id": "fe601c03",
   "metadata": {},
   "outputs": [
    {
     "data": {
      "text/plain": [
       "<AxesSubplot:xlabel='Outlet_Type', ylabel='count'>"
      ]
     },
     "execution_count": 23,
     "metadata": {},
     "output_type": "execute_result"
    },
    {
     "data": {
      "image/png": "[encoded data removed]",
      "text/plain": [
       "<Figure size 432x288 with 1 Axes>"
      ]
     },
     "metadata": {
      "needs_background": "light"
     },
     "output_type": "display_data"
    }
   ],
   "source": [
    "sns.countplot(df_train['Outlet_Type'])"
   ]
  },
  {
   "cell_type": "markdown",
   "id": "e9e71386",
   "metadata": {},
   "source": [
    "Label Encoding"
   ]
  },
  {
   "cell_type": "code",
   "execution_count": 24,
   "id": "85f2f9f9",
   "metadata": {},
   "outputs": [],
   "source": [
    "from sklearn.preprocessing import LabelEncoder\n",
    "le = LabelEncoder()\n",
    "cat_col = ['Item_Fat_Content', 'Item_Type', 'Outlet_Size', 'Outlet_Location_Type', 'Outlet_Type']\n",
    "for col in cat_col:\n",
    "    df_train[col] = le.fit_transform(df_train[col])"
   ]
  },
  {
   "cell_type": "markdown",
   "id": "afacd7d9",
   "metadata": {},
   "source": [
    "Outliers Checking"
   ]
  },
  {
   "cell_type": "code",
   "execution_count": 25,
   "id": "82d15775",
   "metadata": {},
   "outputs": [
    {
     "data": {
      "text/plain": [
       "Item_Weight                     AxesSubplot(0.125,0.657941;0.133621x0.222059)\n",
       "Item_Fat_Content             AxesSubplot(0.285345,0.657941;0.133621x0.222059)\n",
       "Item_Visibility               AxesSubplot(0.44569,0.657941;0.133621x0.222059)\n",
       "Item_Type                    AxesSubplot(0.606034,0.657941;0.133621x0.222059)\n",
       "Item_MRP                     AxesSubplot(0.766379,0.657941;0.133621x0.222059)\n",
       "Outlet_Establishment_Year       AxesSubplot(0.125,0.391471;0.133621x0.222059)\n",
       "Outlet_Size                  AxesSubplot(0.285345,0.391471;0.133621x0.222059)\n",
       "Outlet_Location_Type          AxesSubplot(0.44569,0.391471;0.133621x0.222059)\n",
       "Outlet_Type                  AxesSubplot(0.606034,0.391471;0.133621x0.222059)\n",
       "Item_Outlet_Sales            AxesSubplot(0.766379,0.391471;0.133621x0.222059)\n",
       "dtype: object"
      ]
     },
     "execution_count": 25,
     "metadata": {},
     "output_type": "execute_result"
    },
    {
     "data": {
      "image/png": "[encoded data removed]",
      "text/plain": [
       "<Figure size 1440x720 with 15 Axes>"
      ]
     },
     "metadata": {
      "needs_background": "light"
     },
     "output_type": "display_data"
    }
   ],
   "source": [
    "df_train.plot(kind='box',subplots=True, layout=(3,5), figsize=[20,10])"
   ]
  },
  {
   "cell_type": "code",
   "execution_count": 26,
   "id": "f298f11d",
   "metadata": {},
   "outputs": [
    {
     "data": {
      "text/plain": [
       "(8523, 9)"
      ]
     },
     "execution_count": 26,
     "metadata": {},
     "output_type": "execute_result"
    }
   ],
   "source": [
    "from scipy.stats import zscore\n",
    "import numpy as np\n",
    "df_out=df_train.drop(columns='Outlet_Type')\n",
    "z=np.abs(zscore(df_out))\n",
    "z.shape"
   ]
  },
  {
   "cell_type": "code",
   "execution_count": 27,
   "id": "006a580b",
   "metadata": {},
   "outputs": [
    {
     "name": "stdout",
     "output_type": "stream",
     "text": [
      "(array([  49,   81,   83,  108,  130,  145,  151,  174,  199,  276,  304,\n",
      "        333,  339,  373,  396,  434,  456,  472,  489,  502,  521,  532,\n",
      "        615,  661,  694,  727,  753,  753,  809,  838,  854,  891,  935,\n",
      "        991,  997, 1009, 1010, 1034, 1090, 1124, 1133, 1138, 1159, 1183,\n",
      "       1209, 1254, 1272, 1291, 1311, 1324, 1372, 1433, 1434, 1450, 1496,\n",
      "       1501, 1506, 1512, 1542, 1549, 1560, 1575, 1576, 1615, 1617, 1644,\n",
      "       1651, 1684, 1723, 1753, 1769, 1805, 1827, 1841, 1859, 1998, 2062,\n",
      "       2088, 2109, 2111, 2122, 2143, 2168, 2173, 2216, 2223, 2238, 2251,\n",
      "       2293, 2324, 2331, 2438, 2439, 2445, 2516, 2535, 2552, 2569, 2586,\n",
      "       2613, 2660, 2678, 2728, 2776, 2855, 2895, 2905, 2971, 2973, 3011,\n",
      "       3017, 3083, 3087, 3098, 3154, 3206, 3225, 3234, 3241, 3242, 3243,\n",
      "       3286, 3335, 3367, 3399, 3407, 3458, 3474, 3480, 3488, 3491, 3497,\n",
      "       3509, 3540, 3545, 3582, 3602, 3667, 3709, 3720, 3750, 3757, 3767,\n",
      "       3884, 3993, 4006, 4019, 4083, 4163, 4219, 4245, 4289, 4290, 4346,\n",
      "       4349, 4382, 4393, 4408, 4415, 4463, 4530, 4656, 4674, 4676, 4680,\n",
      "       4681, 4772, 4789, 4865, 4888, 4941, 4961, 4991, 5031, 5047, 5054,\n",
      "       5065, 5133, 5146, 5150, 5177, 5185, 5202, 5223, 5287, 5315, 5374,\n",
      "       5401, 5417, 5467, 5500, 5539, 5550, 5577, 5611, 5619, 5633, 5732,\n",
      "       5734, 5752, 5784, 5795, 5799, 5812, 5837, 5880, 5891, 5946, 5977,\n",
      "       6000, 6008, 6012, 6132, 6134, 6176, 6179, 6268, 6334, 6344, 6357,\n",
      "       6370, 6409, 6462, 6468, 6486, 6536, 6537, 6540, 6541, 6576, 6606,\n",
      "       6622, 6674, 6729, 6786, 6803, 6843, 6886, 6903, 6993, 7001, 7005,\n",
      "       7016, 7076, 7088, 7107, 7121, 7146, 7147, 7188, 7191, 7200, 7215,\n",
      "       7236, 7250, 7256, 7278, 7302, 7308, 7318, 7343, 7353, 7388, 7496,\n",
      "       7499, 7535, 7558, 7560, 7562, 7603, 7609, 7690, 7693, 7703, 7712,\n",
      "       7722, 7744, 7745, 7751, 7752, 7816, 7826, 7866, 7910, 7930, 7944,\n",
      "       7949, 8004, 8039, 8085, 8143, 8194, 8201, 8215, 8233, 8245, 8273,\n",
      "       8345, 8387, 8432, 8447, 8517], dtype=int64), array([2, 1, 2, 2, 8, 8, 1, 2, 1, 8, 8, 8, 1, 8, 1, 2, 8, 8, 1, 2, 2, 2,\n",
      "       1, 8, 8, 1, 1, 8, 8, 1, 2, 1, 8, 8, 8, 8, 1, 1, 1, 1, 1, 8, 2, 1,\n",
      "       1, 8, 2, 2, 2, 2, 1, 1, 2, 8, 2, 2, 8, 1, 1, 1, 2, 2, 1, 1, 1, 2,\n",
      "       2, 1, 1, 1, 1, 2, 2, 2, 8, 8, 1, 2, 8, 1, 2, 1, 1, 1, 8, 1, 8, 2,\n",
      "       8, 2, 1, 1, 2, 2, 8, 8, 1, 1, 2, 2, 1, 1, 2, 8, 2, 2, 1, 1, 1, 1,\n",
      "       2, 8, 8, 8, 8, 2, 1, 8, 1, 1, 1, 8, 1, 1, 2, 8, 2, 2, 1, 2, 1, 2,\n",
      "       1, 2, 1, 1, 1, 8, 8, 8, 2, 8, 2, 2, 2, 2, 1, 1, 1, 2, 1, 8, 1, 8,\n",
      "       8, 2, 1, 2, 1, 1, 2, 2, 2, 8, 1, 8, 8, 2, 1, 8, 2, 8, 8, 2, 1, 1,\n",
      "       8, 1, 1, 2, 8, 8, 1, 8, 2, 8, 2, 1, 1, 1, 8, 1, 8, 1, 1, 8, 1, 2,\n",
      "       2, 8, 1, 2, 8, 8, 2, 2, 2, 2, 8, 8, 2, 2, 1, 8, 1, 2, 1, 8, 1, 1,\n",
      "       1, 8, 1, 1, 1, 2, 8, 1, 8, 2, 8, 2, 2, 1, 2, 1, 1, 8, 2, 8, 1, 2,\n",
      "       8, 8, 2, 2, 2, 1, 1, 8, 8, 1, 2, 8, 2, 8, 2, 8, 1, 1, 8, 1, 2, 1,\n",
      "       2, 1, 2, 8, 8, 2, 8, 8, 1, 1, 1, 1, 2, 1, 1, 8, 8, 8, 2, 1, 8, 1,\n",
      "       2, 1, 8, 1, 1, 2, 8, 2, 1, 8, 2, 2, 1, 2, 8, 1], dtype=int64))\n"
     ]
    }
   ],
   "source": [
    "threshold=3\n",
    "print(np.where(z>3))"
   ]
  },
  {
   "cell_type": "code",
   "execution_count": 28,
   "id": "aa65af41",
   "metadata": {},
   "outputs": [
    {
     "data": {
      "text/plain": [
       "302"
      ]
     },
     "execution_count": 28,
     "metadata": {},
     "output_type": "execute_result"
    }
   ],
   "source": [
    "len(np.where(z>3)[0])"
   ]
  },
  {
   "cell_type": "markdown",
   "id": "de544c55",
   "metadata": {},
   "source": [
    " There are outliers in the data.Let's remove the outliers."
   ]
  },
  {
   "cell_type": "code",
   "execution_count": 29,
   "id": "67ceb68b",
   "metadata": {},
   "outputs": [
    {
     "data": {
      "text/plain": [
       "(8222, 10)"
      ]
     },
     "execution_count": 29,
     "metadata": {},
     "output_type": "execute_result"
    }
   ],
   "source": [
    "df_train=df_train.drop([49,   81,   83,  108,  130,  145,  151,  174,  199,  276,  304,\n",
    "        333,  339,  373,  396,  434,  456,  472,  489,  502,  521,  532,\n",
    "        615,  661,  694,  727,  753,  753,  809,  838,  854,  891,  935,\n",
    "        991,  997, 1009, 1010, 1034, 1090, 1124, 1133, 1138, 1159, 1183,\n",
    "       1209, 1254, 1272, 1291, 1311, 1324, 1372, 1433, 1434, 1450, 1496,\n",
    "       1501, 1506, 1512, 1542, 1549, 1560, 1575, 1576, 1615, 1617, 1644,\n",
    "       1651, 1684, 1723, 1753, 1769, 1805, 1827, 1841, 1859, 1998, 2062,\n",
    "       2088, 2109, 2111, 2122, 2143, 2168, 2173, 2216, 2223, 2238, 2251,\n",
    "       2293, 2324, 2331, 2438, 2439, 2445, 2516, 2535, 2552, 2569, 2586,\n",
    "       2613, 2660, 2678, 2728, 2776, 2855, 2895, 2905, 2971, 2973, 3011,\n",
    "       3017, 3083, 3087, 3098, 3154, 3206, 3225, 3234, 3241, 3242, 3243,\n",
    "       3286, 3335, 3367, 3399, 3407, 3458, 3474, 3480, 3488, 3491, 3497,\n",
    "       3509, 3540, 3545, 3582, 3602, 3667, 3709, 3720, 3750, 3757, 3767,\n",
    "       3884, 3993, 4006, 4019, 4083, 4163, 4219, 4245, 4289, 4290, 4346,\n",
    "       4349, 4382, 4393, 4408, 4415, 4463, 4530, 4656, 4674, 4676, 4680,\n",
    "       4681, 4772, 4789, 4865, 4888, 4941, 4961, 4991, 5031, 5047, 5054,\n",
    "       5065, 5133, 5146, 5150, 5177, 5185, 5202, 5223, 5287, 5315, 5374,\n",
    "       5401, 5417, 5467, 5500, 5539, 5550, 5577, 5611, 5619, 5633, 5732,\n",
    "       5734, 5752, 5784, 5795, 5799, 5812, 5837, 5880, 5891, 5946, 5977,\n",
    "       6000, 6008, 6012, 6132, 6134, 6176, 6179, 6268, 6334, 6344, 6357,\n",
    "       6370, 6409, 6462, 6468, 6486, 6536, 6537, 6540, 6541, 6576, 6606,\n",
    "       6622, 6674, 6729, 6786, 6803, 6843, 6886, 6903, 6993, 7001, 7005,\n",
    "       7016, 7076, 7088, 7107, 7121, 7146, 7147, 7188, 7191, 7200, 7215,\n",
    "       7236, 7250, 7256, 7278, 7302, 7308, 7318, 7343, 7353, 7388, 7496,\n",
    "       7499, 7535, 7558, 7560, 7562, 7603, 7609, 7690, 7693, 7703, 7712,\n",
    "       7722, 7744, 7745, 7751, 7752, 7816, 7826, 7866, 7910, 7930, 7944,\n",
    "       7949, 8004, 8039, 8085, 8143, 8194, 8201, 8215, 8233, 8245, 8273,\n",
    "       8345, 8387, 8432, 8447, 8517],axis=0)\n",
    "df_train.shape"
   ]
  },
  {
   "cell_type": "markdown",
   "id": "768af3e2",
   "metadata": {},
   "source": [
    "Percentage Data Loss"
   ]
  },
  {
   "cell_type": "code",
   "execution_count": 30,
   "id": "ca78e385",
   "metadata": {},
   "outputs": [
    {
     "name": "stdout",
     "output_type": "stream",
     "text": [
      "3.5316203214830457 %\n"
     ]
    }
   ],
   "source": [
    "loss_percent=(8523-8222)/8523*100\n",
    "print(loss_percent,'%')"
   ]
  },
  {
   "cell_type": "markdown",
   "id": "b3bba7a0",
   "metadata": {},
   "source": [
    "Correlation"
   ]
  },
  {
   "cell_type": "code",
   "execution_count": 31,
   "id": "7e407980",
   "metadata": {},
   "outputs": [
    {
     "data": {
      "text/html": [
       "<div>\n",
       "<style scoped>\n",
       "    .dataframe tbody tr th:only-of-type {\n",
       "        vertical-align: middle;\n",
       "    }\n",
       "\n",
       "    .dataframe tbody tr th {\n",
       "        vertical-align: top;\n",
       "    }\n",
       "\n",
       "    .dataframe thead th {\n",
       "        text-align: right;\n",
       "    }\n",
       "</style>\n",
       "<table border=\"1\" class=\"dataframe\">\n",
       "  <thead>\n",
       "    <tr style=\"text-align: right;\">\n",
       "      <th></th>\n",
       "      <th>Item_Weight</th>\n",
       "      <th>Item_Fat_Content</th>\n",
       "      <th>Item_Visibility</th>\n",
       "      <th>Item_Type</th>\n",
       "      <th>Item_MRP</th>\n",
       "      <th>Outlet_Establishment_Year</th>\n",
       "      <th>Outlet_Size</th>\n",
       "      <th>Outlet_Location_Type</th>\n",
       "      <th>Outlet_Type</th>\n",
       "      <th>Item_Outlet_Sales</th>\n",
       "    </tr>\n",
       "  </thead>\n",
       "  <tbody>\n",
       "    <tr>\n",
       "      <th>Item_Weight</th>\n",
       "      <td>1.000000</td>\n",
       "      <td>-0.019195</td>\n",
       "      <td>-0.009853</td>\n",
       "      <td>0.027716</td>\n",
       "      <td>0.024458</td>\n",
       "      <td>-0.009266</td>\n",
       "      <td>-0.008281</td>\n",
       "      <td>0.005994</td>\n",
       "      <td>-0.002089</td>\n",
       "      <td>0.010351</td>\n",
       "    </tr>\n",
       "    <tr>\n",
       "      <th>Item_Fat_Content</th>\n",
       "      <td>-0.019195</td>\n",
       "      <td>1.000000</td>\n",
       "      <td>0.039216</td>\n",
       "      <td>-0.126249</td>\n",
       "      <td>0.002854</td>\n",
       "      <td>-0.010542</td>\n",
       "      <td>-0.008840</td>\n",
       "      <td>-0.004478</td>\n",
       "      <td>0.000706</td>\n",
       "      <td>0.020618</td>\n",
       "    </tr>\n",
       "    <tr>\n",
       "      <th>Item_Visibility</th>\n",
       "      <td>-0.009853</td>\n",
       "      <td>0.039216</td>\n",
       "      <td>1.000000</td>\n",
       "      <td>-0.036583</td>\n",
       "      <td>0.001472</td>\n",
       "      <td>-0.044140</td>\n",
       "      <td>0.045678</td>\n",
       "      <td>-0.015106</td>\n",
       "      <td>-0.119910</td>\n",
       "      <td>-0.092554</td>\n",
       "    </tr>\n",
       "    <tr>\n",
       "      <th>Item_Type</th>\n",
       "      <td>0.027716</td>\n",
       "      <td>-0.126249</td>\n",
       "      <td>-0.036583</td>\n",
       "      <td>1.000000</td>\n",
       "      <td>0.031041</td>\n",
       "      <td>0.007952</td>\n",
       "      <td>0.001253</td>\n",
       "      <td>-0.000275</td>\n",
       "      <td>0.000651</td>\n",
       "      <td>0.015589</td>\n",
       "    </tr>\n",
       "    <tr>\n",
       "      <th>Item_MRP</th>\n",
       "      <td>0.024458</td>\n",
       "      <td>0.002854</td>\n",
       "      <td>0.001472</td>\n",
       "      <td>0.031041</td>\n",
       "      <td>1.000000</td>\n",
       "      <td>0.019437</td>\n",
       "      <td>0.006314</td>\n",
       "      <td>-0.004097</td>\n",
       "      <td>-0.022156</td>\n",
       "      <td>0.568176</td>\n",
       "    </tr>\n",
       "    <tr>\n",
       "      <th>Outlet_Establishment_Year</th>\n",
       "      <td>-0.009266</td>\n",
       "      <td>-0.010542</td>\n",
       "      <td>-0.044140</td>\n",
       "      <td>0.007952</td>\n",
       "      <td>0.019437</td>\n",
       "      <td>1.000000</td>\n",
       "      <td>0.207683</td>\n",
       "      <td>-0.093957</td>\n",
       "      <td>-0.120397</td>\n",
       "      <td>-0.024280</td>\n",
       "    </tr>\n",
       "    <tr>\n",
       "      <th>Outlet_Size</th>\n",
       "      <td>-0.008281</td>\n",
       "      <td>-0.008840</td>\n",
       "      <td>0.045678</td>\n",
       "      <td>0.001253</td>\n",
       "      <td>0.006314</td>\n",
       "      <td>0.207683</td>\n",
       "      <td>1.000000</td>\n",
       "      <td>-0.611339</td>\n",
       "      <td>-0.194481</td>\n",
       "      <td>-0.078753</td>\n",
       "    </tr>\n",
       "    <tr>\n",
       "      <th>Outlet_Location_Type</th>\n",
       "      <td>0.005994</td>\n",
       "      <td>-0.004478</td>\n",
       "      <td>-0.015106</td>\n",
       "      <td>-0.000275</td>\n",
       "      <td>-0.004097</td>\n",
       "      <td>-0.093957</td>\n",
       "      <td>-0.611339</td>\n",
       "      <td>1.000000</td>\n",
       "      <td>0.467156</td>\n",
       "      <td>0.069131</td>\n",
       "    </tr>\n",
       "    <tr>\n",
       "      <th>Outlet_Type</th>\n",
       "      <td>-0.002089</td>\n",
       "      <td>0.000706</td>\n",
       "      <td>-0.119910</td>\n",
       "      <td>0.000651</td>\n",
       "      <td>-0.022156</td>\n",
       "      <td>-0.120397</td>\n",
       "      <td>-0.194481</td>\n",
       "      <td>0.467156</td>\n",
       "      <td>1.000000</td>\n",
       "      <td>0.369614</td>\n",
       "    </tr>\n",
       "    <tr>\n",
       "      <th>Item_Outlet_Sales</th>\n",
       "      <td>0.010351</td>\n",
       "      <td>0.020618</td>\n",
       "      <td>-0.092554</td>\n",
       "      <td>0.015589</td>\n",
       "      <td>0.568176</td>\n",
       "      <td>-0.024280</td>\n",
       "      <td>-0.078753</td>\n",
       "      <td>0.069131</td>\n",
       "      <td>0.369614</td>\n",
       "      <td>1.000000</td>\n",
       "    </tr>\n",
       "  </tbody>\n",
       "</table>\n",
       "</div>"
      ],
      "text/plain": [
       "                           Item_Weight  Item_Fat_Content  Item_Visibility  \\\n",
       "Item_Weight                   1.000000         -0.019195        -0.009853   \n",
       "Item_Fat_Content             -0.019195          1.000000         0.039216   \n",
       "Item_Visibility              -0.009853          0.039216         1.000000   \n",
       "Item_Type                     0.027716         -0.126249        -0.036583   \n",
       "Item_MRP                      0.024458          0.002854         0.001472   \n",
       "Outlet_Establishment_Year    -0.009266         -0.010542        -0.044140   \n",
       "Outlet_Size                  -0.008281         -0.008840         0.045678   \n",
       "Outlet_Location_Type          0.005994         -0.004478        -0.015106   \n",
       "Outlet_Type                  -0.002089          0.000706        -0.119910   \n",
       "Item_Outlet_Sales             0.010351          0.020618        -0.092554   \n",
       "\n",
       "                           Item_Type  Item_MRP  Outlet_Establishment_Year  \\\n",
       "Item_Weight                 0.027716  0.024458                  -0.009266   \n",
       "Item_Fat_Content           -0.126249  0.002854                  -0.010542   \n",
       "Item_Visibility            -0.036583  0.001472                  -0.044140   \n",
       "Item_Type                   1.000000  0.031041                   0.007952   \n",
       "Item_MRP                    0.031041  1.000000                   0.019437   \n",
       "Outlet_Establishment_Year   0.007952  0.019437                   1.000000   \n",
       "Outlet_Size                 0.001253  0.006314                   0.207683   \n",
       "Outlet_Location_Type       -0.000275 -0.004097                  -0.093957   \n",
       "Outlet_Type                 0.000651 -0.022156                  -0.120397   \n",
       "Item_Outlet_Sales           0.015589  0.568176                  -0.024280   \n",
       "\n",
       "                           Outlet_Size  Outlet_Location_Type  Outlet_Type  \\\n",
       "Item_Weight                  -0.008281              0.005994    -0.002089   \n",
       "Item_Fat_Content             -0.008840             -0.004478     0.000706   \n",
       "Item_Visibility               0.045678             -0.015106    -0.119910   \n",
       "Item_Type                     0.001253             -0.000275     0.000651   \n",
       "Item_MRP                      0.006314             -0.004097    -0.022156   \n",
       "Outlet_Establishment_Year     0.207683             -0.093957    -0.120397   \n",
       "Outlet_Size                   1.000000             -0.611339    -0.194481   \n",
       "Outlet_Location_Type         -0.611339              1.000000     0.467156   \n",
       "Outlet_Type                  -0.194481              0.467156     1.000000   \n",
       "Item_Outlet_Sales            -0.078753              0.069131     0.369614   \n",
       "\n",
       "                           Item_Outlet_Sales  \n",
       "Item_Weight                         0.010351  \n",
       "Item_Fat_Content                    0.020618  \n",
       "Item_Visibility                    -0.092554  \n",
       "Item_Type                           0.015589  \n",
       "Item_MRP                            0.568176  \n",
       "Outlet_Establishment_Year          -0.024280  \n",
       "Outlet_Size                        -0.078753  \n",
       "Outlet_Location_Type                0.069131  \n",
       "Outlet_Type                         0.369614  \n",
       "Item_Outlet_Sales                   1.000000  "
      ]
     },
     "execution_count": 31,
     "metadata": {},
     "output_type": "execute_result"
    }
   ],
   "source": [
    "df_train.corr()"
   ]
  },
  {
   "cell_type": "code",
   "execution_count": 32,
   "id": "a9db90db",
   "metadata": {},
   "outputs": [
    {
     "data": {
      "text/plain": [
       "<AxesSubplot:>"
      ]
     },
     "execution_count": 32,
     "metadata": {},
     "output_type": "execute_result"
    },
    {
     "data": {
      "image/png": "[encoded data removed]",
      "text/plain": [
       "<Figure size 1080x504 with 2 Axes>"
      ]
     },
     "metadata": {
      "needs_background": "light"
     },
     "output_type": "display_data"
    }
   ],
   "source": [
    "import matplotlib.pyplot as plt\n",
    "import seaborn as sns\n",
    "plt.figure(figsize=(15,7))\n",
    "sns.heatmap(df_train.corr(), annot=True, linewidths=0.5,linecolor=\"black\", fmt='.2f')\n"
   ]
  },
  {
   "cell_type": "markdown",
   "id": "13c714d3",
   "metadata": {},
   "source": [
    "Checking Data To Remove Skewness"
   ]
  },
  {
   "cell_type": "code",
   "execution_count": 33,
   "id": "083ce9e1",
   "metadata": {},
   "outputs": [
    {
     "data": {
      "text/html": [
       "<div>\n",
       "<style scoped>\n",
       "    .dataframe tbody tr th:only-of-type {\n",
       "        vertical-align: middle;\n",
       "    }\n",
       "\n",
       "    .dataframe tbody tr th {\n",
       "        vertical-align: top;\n",
       "    }\n",
       "\n",
       "    .dataframe thead th {\n",
       "        text-align: right;\n",
       "    }\n",
       "</style>\n",
       "<table border=\"1\" class=\"dataframe\">\n",
       "  <thead>\n",
       "    <tr style=\"text-align: right;\">\n",
       "      <th></th>\n",
       "      <th>Item_Weight</th>\n",
       "      <th>Item_Fat_Content</th>\n",
       "      <th>Item_Visibility</th>\n",
       "      <th>Item_Type</th>\n",
       "      <th>Item_MRP</th>\n",
       "      <th>Outlet_Establishment_Year</th>\n",
       "      <th>Outlet_Size</th>\n",
       "      <th>Outlet_Location_Type</th>\n",
       "      <th>Outlet_Type</th>\n",
       "    </tr>\n",
       "  </thead>\n",
       "  <tbody>\n",
       "    <tr>\n",
       "      <th>0</th>\n",
       "      <td>9.300</td>\n",
       "      <td>1</td>\n",
       "      <td>0.016047</td>\n",
       "      <td>4</td>\n",
       "      <td>249.8092</td>\n",
       "      <td>1999</td>\n",
       "      <td>1</td>\n",
       "      <td>0</td>\n",
       "      <td>1</td>\n",
       "    </tr>\n",
       "    <tr>\n",
       "      <th>1</th>\n",
       "      <td>5.920</td>\n",
       "      <td>2</td>\n",
       "      <td>0.019278</td>\n",
       "      <td>14</td>\n",
       "      <td>48.2692</td>\n",
       "      <td>2009</td>\n",
       "      <td>1</td>\n",
       "      <td>2</td>\n",
       "      <td>2</td>\n",
       "    </tr>\n",
       "    <tr>\n",
       "      <th>2</th>\n",
       "      <td>17.500</td>\n",
       "      <td>1</td>\n",
       "      <td>0.016760</td>\n",
       "      <td>10</td>\n",
       "      <td>141.6180</td>\n",
       "      <td>1999</td>\n",
       "      <td>1</td>\n",
       "      <td>0</td>\n",
       "      <td>1</td>\n",
       "    </tr>\n",
       "    <tr>\n",
       "      <th>3</th>\n",
       "      <td>19.200</td>\n",
       "      <td>2</td>\n",
       "      <td>0.000000</td>\n",
       "      <td>6</td>\n",
       "      <td>182.0950</td>\n",
       "      <td>1998</td>\n",
       "      <td>1</td>\n",
       "      <td>2</td>\n",
       "      <td>0</td>\n",
       "    </tr>\n",
       "    <tr>\n",
       "      <th>4</th>\n",
       "      <td>8.930</td>\n",
       "      <td>1</td>\n",
       "      <td>0.000000</td>\n",
       "      <td>9</td>\n",
       "      <td>53.8614</td>\n",
       "      <td>1987</td>\n",
       "      <td>0</td>\n",
       "      <td>2</td>\n",
       "      <td>1</td>\n",
       "    </tr>\n",
       "    <tr>\n",
       "      <th>...</th>\n",
       "      <td>...</td>\n",
       "      <td>...</td>\n",
       "      <td>...</td>\n",
       "      <td>...</td>\n",
       "      <td>...</td>\n",
       "      <td>...</td>\n",
       "      <td>...</td>\n",
       "      <td>...</td>\n",
       "      <td>...</td>\n",
       "    </tr>\n",
       "    <tr>\n",
       "      <th>8518</th>\n",
       "      <td>6.865</td>\n",
       "      <td>1</td>\n",
       "      <td>0.056783</td>\n",
       "      <td>13</td>\n",
       "      <td>214.5218</td>\n",
       "      <td>1987</td>\n",
       "      <td>0</td>\n",
       "      <td>2</td>\n",
       "      <td>1</td>\n",
       "    </tr>\n",
       "    <tr>\n",
       "      <th>8519</th>\n",
       "      <td>8.380</td>\n",
       "      <td>2</td>\n",
       "      <td>0.046982</td>\n",
       "      <td>0</td>\n",
       "      <td>108.1570</td>\n",
       "      <td>2002</td>\n",
       "      <td>1</td>\n",
       "      <td>1</td>\n",
       "      <td>1</td>\n",
       "    </tr>\n",
       "    <tr>\n",
       "      <th>8520</th>\n",
       "      <td>10.600</td>\n",
       "      <td>1</td>\n",
       "      <td>0.035186</td>\n",
       "      <td>8</td>\n",
       "      <td>85.1224</td>\n",
       "      <td>2004</td>\n",
       "      <td>2</td>\n",
       "      <td>1</td>\n",
       "      <td>1</td>\n",
       "    </tr>\n",
       "    <tr>\n",
       "      <th>8521</th>\n",
       "      <td>7.210</td>\n",
       "      <td>2</td>\n",
       "      <td>0.145221</td>\n",
       "      <td>13</td>\n",
       "      <td>103.1332</td>\n",
       "      <td>2009</td>\n",
       "      <td>1</td>\n",
       "      <td>2</td>\n",
       "      <td>2</td>\n",
       "    </tr>\n",
       "    <tr>\n",
       "      <th>8522</th>\n",
       "      <td>14.800</td>\n",
       "      <td>1</td>\n",
       "      <td>0.044878</td>\n",
       "      <td>14</td>\n",
       "      <td>75.4670</td>\n",
       "      <td>1997</td>\n",
       "      <td>2</td>\n",
       "      <td>0</td>\n",
       "      <td>1</td>\n",
       "    </tr>\n",
       "  </tbody>\n",
       "</table>\n",
       "<p>8222 rows × 9 columns</p>\n",
       "</div>"
      ],
      "text/plain": [
       "      Item_Weight  Item_Fat_Content  Item_Visibility  Item_Type  Item_MRP  \\\n",
       "0           9.300                 1         0.016047          4  249.8092   \n",
       "1           5.920                 2         0.019278         14   48.2692   \n",
       "2          17.500                 1         0.016760         10  141.6180   \n",
       "3          19.200                 2         0.000000          6  182.0950   \n",
       "4           8.930                 1         0.000000          9   53.8614   \n",
       "...           ...               ...              ...        ...       ...   \n",
       "8518        6.865                 1         0.056783         13  214.5218   \n",
       "8519        8.380                 2         0.046982          0  108.1570   \n",
       "8520       10.600                 1         0.035186          8   85.1224   \n",
       "8521        7.210                 2         0.145221         13  103.1332   \n",
       "8522       14.800                 1         0.044878         14   75.4670   \n",
       "\n",
       "      Outlet_Establishment_Year  Outlet_Size  Outlet_Location_Type  \\\n",
       "0                          1999            1                     0   \n",
       "1                          2009            1                     2   \n",
       "2                          1999            1                     0   \n",
       "3                          1998            1                     2   \n",
       "4                          1987            0                     2   \n",
       "...                         ...          ...                   ...   \n",
       "8518                       1987            0                     2   \n",
       "8519                       2002            1                     1   \n",
       "8520                       2004            2                     1   \n",
       "8521                       2009            1                     2   \n",
       "8522                       1997            2                     0   \n",
       "\n",
       "      Outlet_Type  \n",
       "0               1  \n",
       "1               2  \n",
       "2               1  \n",
       "3               0  \n",
       "4               1  \n",
       "...           ...  \n",
       "8518            1  \n",
       "8519            1  \n",
       "8520            1  \n",
       "8521            2  \n",
       "8522            1  \n",
       "\n",
       "[8222 rows x 9 columns]"
      ]
     },
     "execution_count": 33,
     "metadata": {},
     "output_type": "execute_result"
    }
   ],
   "source": [
    "df_train.iloc[:,:-1]"
   ]
  },
  {
   "cell_type": "code",
   "execution_count": 34,
   "id": "28e1106b",
   "metadata": {},
   "outputs": [
    {
     "data": {
      "text/plain": [
       "Item_Weight                  0.087821\n",
       "Item_Fat_Content             0.291106\n",
       "Item_Visibility              0.794506\n",
       "Item_Type                    0.094578\n",
       "Item_MRP                     0.139153\n",
       "Outlet_Establishment_Year   -0.420927\n",
       "Outlet_Size                 -0.089519\n",
       "Outlet_Location_Type        -0.202794\n",
       "Outlet_Type                  0.957163\n",
       "dtype: float64"
      ]
     },
     "execution_count": 34,
     "metadata": {},
     "output_type": "execute_result"
    }
   ],
   "source": [
    "df_train.iloc[:,:-1].skew()"
   ]
  },
  {
   "cell_type": "code",
   "execution_count": 35,
   "id": "cb73c8e3",
   "metadata": {},
   "outputs": [
    {
     "name": "stdout",
     "output_type": "stream",
     "text": [
      "<class 'pandas.core.frame.DataFrame'>\n",
      "Int64Index: 8222 entries, 0 to 8522\n",
      "Data columns (total 10 columns):\n",
      " #   Column                     Non-Null Count  Dtype  \n",
      "---  ------                     --------------  -----  \n",
      " 0   Item_Weight                8222 non-null   float64\n",
      " 1   Item_Fat_Content           8222 non-null   int32  \n",
      " 2   Item_Visibility            8222 non-null   float64\n",
      " 3   Item_Type                  8222 non-null   int32  \n",
      " 4   Item_MRP                   8222 non-null   float64\n",
      " 5   Outlet_Establishment_Year  8222 non-null   int64  \n",
      " 6   Outlet_Size                8222 non-null   int32  \n",
      " 7   Outlet_Location_Type       8222 non-null   int32  \n",
      " 8   Outlet_Type                8222 non-null   int32  \n",
      " 9   Item_Outlet_Sales          8222 non-null   float64\n",
      "dtypes: float64(4), int32(5), int64(1)\n",
      "memory usage: 546.0 KB\n"
     ]
    }
   ],
   "source": [
    "df_train.info()"
   ]
  },
  {
   "cell_type": "code",
   "execution_count": 36,
   "id": "05a5e71b",
   "metadata": {},
   "outputs": [
    {
     "data": {
      "text/html": [
       "<div>\n",
       "<style scoped>\n",
       "    .dataframe tbody tr th:only-of-type {\n",
       "        vertical-align: middle;\n",
       "    }\n",
       "\n",
       "    .dataframe tbody tr th {\n",
       "        vertical-align: top;\n",
       "    }\n",
       "\n",
       "    .dataframe thead th {\n",
       "        text-align: right;\n",
       "    }\n",
       "</style>\n",
       "<table border=\"1\" class=\"dataframe\">\n",
       "  <thead>\n",
       "    <tr style=\"text-align: right;\">\n",
       "      <th></th>\n",
       "      <th>Item_Weight</th>\n",
       "      <th>Item_Fat_Content</th>\n",
       "      <th>Item_Visibility</th>\n",
       "      <th>Item_Type</th>\n",
       "      <th>Item_MRP</th>\n",
       "      <th>Outlet_Establishment_Year</th>\n",
       "      <th>Outlet_Size</th>\n",
       "      <th>Outlet_Location_Type</th>\n",
       "      <th>Outlet_Type</th>\n",
       "      <th>Item_Outlet_Sales</th>\n",
       "    </tr>\n",
       "  </thead>\n",
       "  <tbody>\n",
       "    <tr>\n",
       "      <th>0</th>\n",
       "      <td>9.30</td>\n",
       "      <td>1</td>\n",
       "      <td>0.016047</td>\n",
       "      <td>4</td>\n",
       "      <td>249.8092</td>\n",
       "      <td>1999</td>\n",
       "      <td>1</td>\n",
       "      <td>0</td>\n",
       "      <td>1</td>\n",
       "      <td>3735.1380</td>\n",
       "    </tr>\n",
       "    <tr>\n",
       "      <th>1</th>\n",
       "      <td>5.92</td>\n",
       "      <td>2</td>\n",
       "      <td>0.019278</td>\n",
       "      <td>14</td>\n",
       "      <td>48.2692</td>\n",
       "      <td>2009</td>\n",
       "      <td>1</td>\n",
       "      <td>2</td>\n",
       "      <td>2</td>\n",
       "      <td>443.4228</td>\n",
       "    </tr>\n",
       "    <tr>\n",
       "      <th>2</th>\n",
       "      <td>17.50</td>\n",
       "      <td>1</td>\n",
       "      <td>0.016760</td>\n",
       "      <td>10</td>\n",
       "      <td>141.6180</td>\n",
       "      <td>1999</td>\n",
       "      <td>1</td>\n",
       "      <td>0</td>\n",
       "      <td>1</td>\n",
       "      <td>2097.2700</td>\n",
       "    </tr>\n",
       "    <tr>\n",
       "      <th>3</th>\n",
       "      <td>19.20</td>\n",
       "      <td>2</td>\n",
       "      <td>0.000000</td>\n",
       "      <td>6</td>\n",
       "      <td>182.0950</td>\n",
       "      <td>1998</td>\n",
       "      <td>1</td>\n",
       "      <td>2</td>\n",
       "      <td>0</td>\n",
       "      <td>732.3800</td>\n",
       "    </tr>\n",
       "    <tr>\n",
       "      <th>4</th>\n",
       "      <td>8.93</td>\n",
       "      <td>1</td>\n",
       "      <td>0.000000</td>\n",
       "      <td>9</td>\n",
       "      <td>53.8614</td>\n",
       "      <td>1987</td>\n",
       "      <td>0</td>\n",
       "      <td>2</td>\n",
       "      <td>1</td>\n",
       "      <td>994.7052</td>\n",
       "    </tr>\n",
       "  </tbody>\n",
       "</table>\n",
       "</div>"
      ],
      "text/plain": [
       "   Item_Weight  Item_Fat_Content  Item_Visibility  Item_Type  Item_MRP  \\\n",
       "0         9.30                 1         0.016047          4  249.8092   \n",
       "1         5.92                 2         0.019278         14   48.2692   \n",
       "2        17.50                 1         0.016760         10  141.6180   \n",
       "3        19.20                 2         0.000000          6  182.0950   \n",
       "4         8.93                 1         0.000000          9   53.8614   \n",
       "\n",
       "   Outlet_Establishment_Year  Outlet_Size  Outlet_Location_Type  Outlet_Type  \\\n",
       "0                       1999            1                     0            1   \n",
       "1                       2009            1                     2            2   \n",
       "2                       1999            1                     0            1   \n",
       "3                       1998            1                     2            0   \n",
       "4                       1987            0                     2            1   \n",
       "\n",
       "   Item_Outlet_Sales  \n",
       "0          3735.1380  \n",
       "1           443.4228  \n",
       "2          2097.2700  \n",
       "3           732.3800  \n",
       "4           994.7052  "
      ]
     },
     "execution_count": 36,
     "metadata": {},
     "output_type": "execute_result"
    }
   ],
   "source": [
    "df_train.head()"
   ]
  },
  {
   "cell_type": "code",
   "execution_count": 37,
   "id": "5844d95f",
   "metadata": {},
   "outputs": [],
   "source": [
    "x =df_train.drop(['Item_Outlet_Sales'],axis=1)\n",
    "y =df_train['Item_Outlet_Sales']"
   ]
  },
  {
   "cell_type": "markdown",
   "id": "bc11c5fb",
   "metadata": {},
   "source": [
    "Splitted the data into 2 parts- training and test data. Now we would proceed with power transform and standard scaler to get normally distributed curve post removing the skewness."
   ]
  },
  {
   "cell_type": "code",
   "execution_count": 38,
   "id": "3d0aaca8",
   "metadata": {},
   "outputs": [],
   "source": [
    "from sklearn.preprocessing import power_transform\n",
    "x=power_transform(x,method='yeo-johnson')"
   ]
  },
  {
   "cell_type": "code",
   "execution_count": 39,
   "id": "70ff328d",
   "metadata": {},
   "outputs": [
    {
     "data": {
      "text/plain": [
       "array([[-0.81766492, -0.55319135, -1.1399084 , ..., -0.28893369,\n",
       "        -1.37620889, -0.13508106],\n",
       "       [-1.72429667,  1.1617017 , -1.03076718, ..., -0.28893369,\n",
       "         1.0952949 ,  1.05485046],\n",
       "       [ 1.07935446, -0.55319135, -1.11556043, ..., -0.28893369,\n",
       "        -1.37620889, -0.13508106],\n",
       "       ...,\n",
       "       [-0.49341755, -0.55319135, -0.53658307, ...,  1.39061522,\n",
       "        -0.1266511 , -0.13508106],\n",
       "       [-1.36561856,  1.1617017 ,  1.53538339, ..., -0.28893369,\n",
       "         1.0952949 ,  1.05485046],\n",
       "       [ 0.48880913, -0.55319135, -0.26756365, ...,  1.39061522,\n",
       "        -1.37620889, -0.13508106]])"
      ]
     },
     "execution_count": 39,
     "metadata": {},
     "output_type": "execute_result"
    }
   ],
   "source": [
    "from sklearn.preprocessing import StandardScaler # transforms data such that mean =0 and std dev=1\n",
    "sc=StandardScaler()\n",
    "x=sc.fit_transform(x)\n",
    "x\n"
   ]
  },
  {
   "cell_type": "code",
   "execution_count": 40,
   "id": "afee8d28",
   "metadata": {},
   "outputs": [
    {
     "name": "stdout",
     "output_type": "stream",
     "text": [
      "   VIF Factor  features\n",
      "0    1.002408         0\n",
      "1    1.019286         1\n",
      "2    1.026327         2\n",
      "3    1.020886         3\n",
      "4    1.002522         4\n",
      "5    1.046806         5\n",
      "6    1.666271         6\n",
      "7    1.843804         7\n",
      "8    1.227375         8\n"
     ]
    }
   ],
   "source": [
    "from statsmodels.stats.outliers_influence import variance_inflation_factor\n",
    "def vif_calc():\n",
    "    vif=pd.DataFrame()\n",
    "    vif[\"VIF Factor\"]=[variance_inflation_factor(pd.DataFrame(x).values,i) for i in range(pd.DataFrame(x).shape[1])]\n",
    "    vif[\"features\"]=pd.DataFrame(x).columns\n",
    "    print(vif)\n",
    "    \n",
    "vif_calc()    \n",
    "   "
   ]
  },
  {
   "cell_type": "code",
   "execution_count": 41,
   "id": "414d34bf",
   "metadata": {},
   "outputs": [
    {
     "data": {
      "text/plain": [
       "<function matplotlib.pyplot.show(close=None, block=None)>"
      ]
     },
     "execution_count": 41,
     "metadata": {},
     "output_type": "execute_result"
    },
    {
     "data": {
      "image/png": "[encoded data removed]",
      "text/plain": [
       "<Figure size 432x288 with 1 Axes>"
      ]
     },
     "metadata": {
      "needs_background": "light"
     },
     "output_type": "display_data"
    }
   ],
   "source": [
    "sns.distplot(x[0])\n",
    "plt.title(\"Item_Weight\")\n",
    "plt.show"
   ]
  },
  {
   "cell_type": "code",
   "execution_count": 42,
   "id": "b3621810",
   "metadata": {},
   "outputs": [
    {
     "data": {
      "text/plain": [
       "<function matplotlib.pyplot.show(close=None, block=None)>"
      ]
     },
     "execution_count": 42,
     "metadata": {},
     "output_type": "execute_result"
    },
    {
     "data": {
      "image/png": "[encoded data removed]",
      "text/plain": [
       "<Figure size 432x288 with 1 Axes>"
      ]
     },
     "metadata": {
      "needs_background": "light"
     },
     "output_type": "display_data"
    }
   ],
   "source": [
    "sns.distplot(x[1])\n",
    "plt.title(\"Item_Visibility\")\n",
    "plt.show"
   ]
  },
  {
   "cell_type": "code",
   "execution_count": 43,
   "id": "bd356d26",
   "metadata": {},
   "outputs": [
    {
     "data": {
      "text/plain": [
       "<function matplotlib.pyplot.show(close=None, block=None)>"
      ]
     },
     "execution_count": 43,
     "metadata": {},
     "output_type": "execute_result"
    },
    {
     "data": {
      "image/png": "[encoded data removed]",
      "text/plain": [
       "<Figure size 432x288 with 1 Axes>"
      ]
     },
     "metadata": {
      "needs_background": "light"
     },
     "output_type": "display_data"
    }
   ],
   "source": [
    "sns.distplot(x[2])\n",
    "plt.title(\"Item_MRP\")\n",
    "plt.show"
   ]
  },
  {
   "cell_type": "code",
   "execution_count": 44,
   "id": "429a6e31",
   "metadata": {},
   "outputs": [
    {
     "data": {
      "text/plain": [
       "<function matplotlib.pyplot.show(close=None, block=None)>"
      ]
     },
     "execution_count": 44,
     "metadata": {},
     "output_type": "execute_result"
    },
    {
     "data": {
      "image/png": "[encoded data removed]",
      "text/plain": [
       "<Figure size 432x288 with 1 Axes>"
      ]
     },
     "metadata": {
      "needs_background": "light"
     },
     "output_type": "display_data"
    }
   ],
   "source": [
    "sns.distplot(x[3])\n",
    "plt.title(\"Item_Outlet_Sales\")\n",
    "plt.show"
   ]
  },
  {
   "cell_type": "markdown",
   "id": "0265145b",
   "metadata": {},
   "source": [
    "Finding Best Random State"
   ]
  },
  {
   "cell_type": "code",
   "execution_count": 45,
   "id": "ab207b38",
   "metadata": {},
   "outputs": [
    {
     "name": "stdout",
     "output_type": "stream",
     "text": [
      "Best R2 score is 0.5551737768252798 at Random State 999\n",
      "At random state 999 lm training score is:  0.5104\n",
      "At random state 999 lm testing score is:  0.5337\n"
     ]
    }
   ],
   "source": [
    "from sklearn.linear_model import LinearRegression\n",
    "from sklearn.model_selection import train_test_split\n",
    "from sklearn.preprocessing import StandardScaler\n",
    "from sklearn.model_selection import train_test_split\n",
    "from sklearn.linear_model import LinearRegression\n",
    "from sklearn.svm import SVR\n",
    "from sklearn.tree import DecisionTreeRegressor\n",
    "from sklearn.ensemble import RandomForestRegressor\n",
    "from sklearn.neighbors import KNeighborsRegressor\n",
    "from sklearn.ensemble import AdaBoostRegressor\n",
    "from sklearn.ensemble import ExtraTreesRegressor\n",
    "from sklearn.ensemble import GradientBoostingRegressor\n",
    "\n",
    "from sklearn.metrics import r2_score\n",
    "from sklearn.metrics import mean_squared_error\n",
    "from sklearn.model_selection import cross_val_score\n",
    "from sklearn.model_selection import GridSearchCV\n",
    "\n",
    "\n",
    "maxAccu=0 #max accuracy\n",
    "maxRS=0   #best random state value for which max accuracy is achieved\n",
    "\n",
    "for i in range(1, 1000):\n",
    "    x_train, x_test, y_train, y_test = train_test_split(x, y, test_size=0.25, random_state=i)\n",
    "    lm=LinearRegression()\n",
    "    lm.fit(x_train, y_train)\n",
    "    pred = lm.predict(x_test)\n",
    "    r2 = r2_score(y_test, pred)\n",
    "    \n",
    "    if r2>maxAccu:\n",
    "        maxAccu=r2\n",
    "        \n",
    "\n",
    "print(\"Best R2 score is\", maxAccu,\"at Random State\",i)\n",
    "print('At random state', i,'lm training score is: ', round(lm.score(x_train, y_train),4))\n",
    "print('At random state', i,'lm testing score is: ', round(lm.score(x_test, y_test),4))\n"
   ]
  },
  {
   "cell_type": "markdown",
   "id": "67888f31",
   "metadata": {},
   "source": [
    "Different Models"
   ]
  },
  {
   "cell_type": "code",
   "execution_count": 46,
   "id": "7c72e43f",
   "metadata": {},
   "outputs": [],
   "source": [
    "x_train, x_test, y_train, y_test = train_test_split(x, y, test_size=0.2, random_state=999)\n"
   ]
  },
  {
   "cell_type": "code",
   "execution_count": 47,
   "id": "7d7420ba",
   "metadata": {},
   "outputs": [
    {
     "ename": "ModuleNotFoundError",
     "evalue": "No module named 'xgboost'",
     "output_type": "error",
     "traceback": [
      "\u001b[1;31m---------------------------------------------------------------------------\u001b[0m",
      "\u001b[1;31mModuleNotFoundError\u001b[0m                       Traceback (most recent call last)",
      "\u001b[1;32m~\\AppData\\Local\\Temp/ipykernel_3444/3570876277.py\u001b[0m in \u001b[0;36m<module>\u001b[1;34m\u001b[0m\n\u001b[0;32m      5\u001b[0m \u001b[1;32mfrom\u001b[0m \u001b[0msklearn\u001b[0m\u001b[1;33m.\u001b[0m\u001b[0mneighbors\u001b[0m \u001b[1;32mimport\u001b[0m \u001b[0mKNeighborsRegressor\u001b[0m\u001b[1;33m\u001b[0m\u001b[1;33m\u001b[0m\u001b[0m\n\u001b[0;32m      6\u001b[0m \u001b[1;32mfrom\u001b[0m \u001b[0msklearn\u001b[0m\u001b[1;33m.\u001b[0m\u001b[0mensemble\u001b[0m \u001b[1;32mimport\u001b[0m \u001b[0mRandomForestRegressor\u001b[0m\u001b[1;33m\u001b[0m\u001b[1;33m\u001b[0m\u001b[0m\n\u001b[1;32m----> 7\u001b[1;33m \u001b[1;32mfrom\u001b[0m \u001b[0mxgboost\u001b[0m \u001b[1;32mimport\u001b[0m \u001b[0mXGBRegressor\u001b[0m\u001b[1;33m\u001b[0m\u001b[1;33m\u001b[0m\u001b[0m\n\u001b[0m\u001b[0;32m      8\u001b[0m \u001b[1;33m\u001b[0m\u001b[0m\n\u001b[0;32m      9\u001b[0m \u001b[0mLR_model\u001b[0m\u001b[1;33m=\u001b[0m \u001b[0mLinearRegression\u001b[0m\u001b[1;33m(\u001b[0m\u001b[1;33m)\u001b[0m\u001b[1;33m\u001b[0m\u001b[1;33m\u001b[0m\u001b[0m\n",
      "\u001b[1;31mModuleNotFoundError\u001b[0m: No module named 'xgboost'"
     ]
    }
   ],
   "source": [
    "from sklearn.linear_model import LinearRegression\n",
    "from sklearn.linear_model import Ridge, Lasso\n",
    "from sklearn.tree import DecisionTreeRegressor\n",
    "from sklearn.svm import SVR\n",
    "from sklearn.neighbors import KNeighborsRegressor\n",
    "from sklearn.ensemble import RandomForestRegressor\n",
    "from xgboost import XGBRegressor\n",
    "\n",
    "LR_model= LinearRegression()\n",
    "RD_model= Ridge()\n",
    "LS_model= Lasso()\n",
    "DT_model= DecisionTreeRegressor()\n",
    "SV_model= SVR()\n",
    "KNR_model= KNeighborsRegressor()\n",
    "RFR_model= RandomForestRegressor()\n",
    "GB_model = GradientBoostingRegressor()\n",
    "\n",
    "\n",
    "model=[LR_model,RD_model,LS_model,DT_model,SV_model,KNR_model,RFR_model,GB_model]\n",
    "\n"
   ]
  },
  {
   "cell_type": "code",
   "execution_count": 49,
   "id": "695bb52e",
   "metadata": {},
   "outputs": [
    {
     "name": "stdout",
     "output_type": "stream",
     "text": [
      "mean_absolute_error of  LinearRegression() model 819.5007899700237\n",
      "mean_square_error of LinearRegression() model 1135159.3655597179\n",
      "R2 Score of LinearRegression() model 53.137256008894404\n",
      "cross Validation score of  LinearRegression()  is  -1213472.4385582737\n",
      "\n",
      "\n",
      "\n",
      "mean_absolute_error of  Ridge() model 819.4961574920371\n",
      "mean_square_error of Ridge() model 1135174.0753217943\n",
      "R2 Score of Ridge() model 53.13664874630619\n",
      "cross Validation score of  Ridge()  is  -1213471.1321335998\n",
      "\n",
      "\n",
      "\n",
      "mean_absolute_error of  Lasso() model 819.3485840180851\n",
      "mean_square_error of Lasso() model 1135067.4525561787\n",
      "R2 Score of Lasso() model 53.14105045017287\n",
      "cross Validation score of  Lasso()  is  -1213437.4544586567\n",
      "\n",
      "\n",
      "\n",
      "mean_absolute_error of  DecisionTreeRegressor() model 1018.3591110030396\n",
      "mean_square_error of DecisionTreeRegressor() model 2075836.2217310844\n",
      "R2 Score of DecisionTreeRegressor() model 14.30332658315182\n",
      "cross Validation score of  DecisionTreeRegressor()  is  -2073704.5913271098\n",
      "\n",
      "\n",
      "\n",
      "mean_absolute_error of  SVR() model 1140.8683707379794\n",
      "mean_square_error of SVR() model 2246089.438603572\n",
      "R2 Score of SVR() model 7.27476904486859\n",
      "cross Validation score of  SVR()  is  -2320271.7143033138\n",
      "\n",
      "\n",
      "\n",
      "mean_absolute_error of  KNeighborsRegressor() model 793.0489911732523\n",
      "mean_square_error of KNeighborsRegressor() model 1168647.470010416\n",
      "R2 Score of KNeighborsRegressor() model 51.75476777575838\n",
      "cross Validation score of  KNeighborsRegressor()  is  -1259295.690789846\n",
      "\n",
      "\n",
      "\n",
      "mean_absolute_error of  RandomForestRegressor() model 751.7622151039516\n",
      "mean_square_error of RandomForestRegressor() model 1082208.8912038591\n",
      "R2 Score of RandomForestRegressor() model 55.32320857135482\n",
      "cross Validation score of  RandomForestRegressor()  is  -1162484.1499560445\n",
      "\n",
      "\n",
      "\n",
      "mean_absolute_error of  GradientBoostingRegressor() model 717.481406047542\n",
      "mean_square_error of GradientBoostingRegressor() model 973602.0946899403\n",
      "R2 Score of GradientBoostingRegressor() model 59.80681911551513\n",
      "cross Validation score of  GradientBoostingRegressor()  is  -1041855.2069174185\n",
      "\n",
      "\n",
      "\n"
     ]
    }
   ],
   "source": [
    "from sklearn.linear_model import LinearRegression\n",
    "from sklearn.linear_model import Ridge, Lasso\n",
    "from sklearn.tree import DecisionTreeRegressor\n",
    "from sklearn.svm import SVR\n",
    "from sklearn.neighbors import KNeighborsRegressor\n",
    "from sklearn.ensemble import RandomForestRegressor\n",
    "\n",
    "\n",
    "LR_model= LinearRegression()\n",
    "RD_model= Ridge()\n",
    "LS_model= Lasso()\n",
    "DT_model= DecisionTreeRegressor()\n",
    "SV_model= SVR()\n",
    "KNR_model= KNeighborsRegressor()\n",
    "RFR_model= RandomForestRegressor()\n",
    "GB_model = GradientBoostingRegressor()\n",
    "\n",
    "\n",
    "model=[LR_model,RD_model,LS_model,DT_model,SV_model,KNR_model,RFR_model,GB_model]\n",
    "\n",
    "from sklearn.metrics import r2_score,mean_absolute_error,mean_squared_error\n",
    "for m in model:\n",
    "    m.fit(x_train,y_train)\n",
    "    print('mean_absolute_error of ',m ,'model', mean_absolute_error(y_test,m.predict(x_test)))\n",
    "    print('mean_square_error of',m,'model' , mean_squared_error(y_test,m.predict(x_test)))\n",
    "    print('R2 Score of',m,'model', r2_score(y_test,m.predict(x_test) )*100)\n",
    "    print(\"cross Validation score of \",m ,\" is \",cross_val_score(m,x,y,cv=5, scoring='neg_mean_squared_error').mean())\n",
    "    print('\\n\\n')\n"
   ]
  },
  {
   "cell_type": "markdown",
   "id": "864f51c2",
   "metadata": {},
   "source": [
    "Hyperparameter Tuning"
   ]
  },
  {
   "cell_type": "code",
   "execution_count": null,
   "id": "e3df811d",
   "metadata": {},
   "outputs": [],
   "source": [
    "from sklearn.model_selection import GridSearchCV\n",
    "model=GradientBoostingRegressor()\n",
    "param={'loss':['squared_error','absolute_error','huber','quantile'],'n_estimators' : [100,200,300,400,500],'criterion':['friedman_mse','squared_error','mse'],'max_features':['auto','sqrt','log2'],'min_samples_split':[1,2,3,4,5],'min_samples_leaf':[1,2,3,4,5]}\n",
    "\n",
    "grid=GridSearchCV(estimator=model,param_grid=param,cv=5)\n",
    "grid.fit(x_train,y_train)\n",
    "\n",
    "print(grid)\n",
    "print(grid.best_score_)\n",
    "print(grid.best_estimator_.criterion)\n",
    "print(grid.best_params_)\n"
   ]
  },
  {
   "cell_type": "code",
   "execution_count": 53,
   "id": "38e40c19",
   "metadata": {},
   "outputs": [
    {
     "ename": "ValueError",
     "evalue": "Loss 'squared_error' not supported. ",
     "output_type": "error",
     "traceback": [
      "\u001b[1;31m---------------------------------------------------------------------------\u001b[0m",
      "\u001b[1;31mValueError\u001b[0m                                Traceback (most recent call last)",
      "\u001b[1;32m~\\AppData\\Local\\Temp/ipykernel_3444/2915103462.py\u001b[0m in \u001b[0;36m<module>\u001b[1;34m\u001b[0m\n\u001b[0;32m      1\u001b[0m \u001b[0mGB\u001b[0m\u001b[1;33m=\u001b[0m\u001b[0mGradientBoostingRegressor\u001b[0m\u001b[1;33m(\u001b[0m\u001b[0mcriterion\u001b[0m \u001b[1;33m=\u001b[0m\u001b[1;34m'friedman_mse'\u001b[0m\u001b[1;33m,\u001b[0m \u001b[0mloss\u001b[0m\u001b[1;33m=\u001b[0m\u001b[1;34m'squared_error'\u001b[0m\u001b[1;33m,\u001b[0m \u001b[0mmax_features\u001b[0m\u001b[1;33m=\u001b[0m \u001b[1;34m'log2'\u001b[0m\u001b[1;33m,\u001b[0m \u001b[0mmin_samples_leaf\u001b[0m\u001b[1;33m=\u001b[0m \u001b[1;36m1\u001b[0m\u001b[1;33m,\u001b[0m \u001b[0mmin_samples_split\u001b[0m\u001b[1;33m=\u001b[0m \u001b[1;36m5\u001b[0m\u001b[1;33m,\u001b[0m \u001b[0mn_estimators\u001b[0m\u001b[1;33m=\u001b[0m \u001b[1;36m100\u001b[0m\u001b[1;33m)\u001b[0m\u001b[1;33m\u001b[0m\u001b[1;33m\u001b[0m\u001b[0m\n\u001b[1;32m----> 2\u001b[1;33m \u001b[0mGB\u001b[0m\u001b[1;33m.\u001b[0m\u001b[0mfit\u001b[0m\u001b[1;33m(\u001b[0m\u001b[0mx_train\u001b[0m\u001b[1;33m,\u001b[0m\u001b[0my_train\u001b[0m\u001b[1;33m)\u001b[0m\u001b[1;33m\u001b[0m\u001b[1;33m\u001b[0m\u001b[0m\n\u001b[0m\u001b[0;32m      3\u001b[0m \u001b[0mpredGB\u001b[0m\u001b[1;33m=\u001b[0m\u001b[0mGB\u001b[0m\u001b[1;33m.\u001b[0m\u001b[0mpredict\u001b[0m\u001b[1;33m(\u001b[0m\u001b[0mx_test\u001b[0m\u001b[1;33m)\u001b[0m\u001b[1;33m\u001b[0m\u001b[1;33m\u001b[0m\u001b[0m\n\u001b[0;32m      4\u001b[0m \u001b[0mR2_Score\u001b[0m\u001b[1;33m=\u001b[0m\u001b[0mr2_score\u001b[0m\u001b[1;33m(\u001b[0m\u001b[0my_test\u001b[0m\u001b[1;33m,\u001b[0m\u001b[0mpredGB\u001b[0m\u001b[1;33m)\u001b[0m\u001b[1;33m\u001b[0m\u001b[1;33m\u001b[0m\u001b[0m\n\u001b[0;32m      5\u001b[0m \u001b[0mprint\u001b[0m\u001b[1;33m(\u001b[0m\u001b[1;34m\"R2 score for the Best Model is:\"\u001b[0m\u001b[1;33m,\u001b[0m \u001b[0mR2_Score\u001b[0m\u001b[1;33m)\u001b[0m\u001b[1;33m\u001b[0m\u001b[1;33m\u001b[0m\u001b[0m\n",
      "\u001b[1;32m~\\anaconda3\\lib\\site-packages\\sklearn\\ensemble\\_gb.py\u001b[0m in \u001b[0;36mfit\u001b[1;34m(self, X, y, sample_weight, monitor)\u001b[0m\n\u001b[0;32m    446\u001b[0m             \u001b[0mX_val\u001b[0m \u001b[1;33m=\u001b[0m \u001b[0my_val\u001b[0m \u001b[1;33m=\u001b[0m \u001b[0msample_weight_val\u001b[0m \u001b[1;33m=\u001b[0m \u001b[1;32mNone\u001b[0m\u001b[1;33m\u001b[0m\u001b[1;33m\u001b[0m\u001b[0m\n\u001b[0;32m    447\u001b[0m \u001b[1;33m\u001b[0m\u001b[0m\n\u001b[1;32m--> 448\u001b[1;33m         \u001b[0mself\u001b[0m\u001b[1;33m.\u001b[0m\u001b[0m_check_params\u001b[0m\u001b[1;33m(\u001b[0m\u001b[1;33m)\u001b[0m\u001b[1;33m\u001b[0m\u001b[1;33m\u001b[0m\u001b[0m\n\u001b[0m\u001b[0;32m    449\u001b[0m \u001b[1;33m\u001b[0m\u001b[0m\n\u001b[0;32m    450\u001b[0m         \u001b[1;32mif\u001b[0m \u001b[1;32mnot\u001b[0m \u001b[0mself\u001b[0m\u001b[1;33m.\u001b[0m\u001b[0m_is_initialized\u001b[0m\u001b[1;33m(\u001b[0m\u001b[1;33m)\u001b[0m\u001b[1;33m:\u001b[0m\u001b[1;33m\u001b[0m\u001b[1;33m\u001b[0m\u001b[0m\n",
      "\u001b[1;32m~\\anaconda3\\lib\\site-packages\\sklearn\\ensemble\\_gb.py\u001b[0m in \u001b[0;36m_check_params\u001b[1;34m(self)\u001b[0m\n\u001b[0;32m    237\u001b[0m         if (self.loss not in self._SUPPORTED_LOSS\n\u001b[0;32m    238\u001b[0m                 or self.loss not in _gb_losses.LOSS_FUNCTIONS):\n\u001b[1;32m--> 239\u001b[1;33m             \u001b[1;32mraise\u001b[0m \u001b[0mValueError\u001b[0m\u001b[1;33m(\u001b[0m\u001b[1;34m\"Loss '{0:s}' not supported. \"\u001b[0m\u001b[1;33m.\u001b[0m\u001b[0mformat\u001b[0m\u001b[1;33m(\u001b[0m\u001b[0mself\u001b[0m\u001b[1;33m.\u001b[0m\u001b[0mloss\u001b[0m\u001b[1;33m)\u001b[0m\u001b[1;33m)\u001b[0m\u001b[1;33m\u001b[0m\u001b[1;33m\u001b[0m\u001b[0m\n\u001b[0m\u001b[0;32m    240\u001b[0m \u001b[1;33m\u001b[0m\u001b[0m\n\u001b[0;32m    241\u001b[0m         \u001b[1;32mif\u001b[0m \u001b[0mself\u001b[0m\u001b[1;33m.\u001b[0m\u001b[0mloss\u001b[0m \u001b[1;33m==\u001b[0m \u001b[1;34m'deviance'\u001b[0m\u001b[1;33m:\u001b[0m\u001b[1;33m\u001b[0m\u001b[1;33m\u001b[0m\u001b[0m\n",
      "\u001b[1;31mValueError\u001b[0m: Loss 'squared_error' not supported. "
     ]
    }
   ],
   "source": [
    "GB=GradientBoostingRegressor(criterion ='friedman_mse', loss='squared_error', max_features= 'log2', min_samples_leaf= 1, min_samples_split= 5, n_estimators= 100)\n",
    "GB.fit(x_train,y_train)\n",
    "predGB=GB.predict(x_test)\n",
    "R2_Score=r2_score(y_test,predGB)\n",
    "print(\"R2 score for the Best Model is:\", R2_Score)\n"
   ]
  },
  {
   "cell_type": "code",
   "execution_count": null,
   "id": "62f22908",
   "metadata": {},
   "outputs": [],
   "source": [
    "Saving the best Model"
   ]
  },
  {
   "cell_type": "code",
   "execution_count": 54,
   "id": "4ad82a9c",
   "metadata": {},
   "outputs": [
    {
     "data": {
      "text/plain": [
       "['Big_Data_Mart']"
      ]
     },
     "execution_count": 54,
     "metadata": {},
     "output_type": "execute_result"
    }
   ],
   "source": [
    "#saved model using joblib library\n",
    "import joblib\n",
    "filename = \"Big_Data_Mart\"\n",
    "joblib.dump(GB, filename)"
   ]
  },
  {
   "cell_type": "code",
   "execution_count": null,
   "id": "92138022",
   "metadata": {},
   "outputs": [],
   "source": []
  }
 ],
 "metadata": {
  "kernelspec": {
   "display_name": "Python 3 (ipykernel)",
   "language": "python",
   "name": "python3"
  },
  "language_info": {
   "codemirror_mode": {
    "name": "ipython",
    "version": 3
   },
   "file_extension": ".py",
   "mimetype": "text/x-python",
   "name": "python",
   "nbconvert_exporter": "python",
   "pygments_lexer": "ipython3",
   "version": "3.9.7"
  }
 },
 "nbformat": 4,
 "nbformat_minor": 5
}
